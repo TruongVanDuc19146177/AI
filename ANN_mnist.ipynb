{
  "nbformat": 4,
  "nbformat_minor": 0,
  "metadata": {
    "colab": {
      "name": " ANN_mnist",
      "provenance": [],
      "authorship_tag": "ABX9TyMa5rtkYf4QVcWD5H+sxuac",
      "include_colab_link": true
    },
    "kernelspec": {
      "name": "python3",
      "display_name": "Python 3"
    },
    "language_info": {
      "name": "python"
    }
  },
  "cells": [
    {
      "cell_type": "markdown",
      "metadata": {
        "id": "view-in-github",
        "colab_type": "text"
      },
      "source": [
        "<a href=\"https://colab.research.google.com/github/TruongVanDuc19146177/AI/blob/main/ANN_mnist.ipynb\" target=\"_parent\"><img src=\"https://colab.research.google.com/assets/colab-badge.svg\" alt=\"Open In Colab\"/></a>"
      ]
    },
    {
      "cell_type": "code",
      "execution_count": null,
      "metadata": {
        "id": "LX6uMFI6jd5r"
      },
      "outputs": [],
      "source": [
        "from keras.models import Sequential\n",
        "from keras.layers import Dense, Dropout\n",
        "from keras.datasets import mnist \n",
        "from tensorflow.keras.utils import to_categorical\n",
        "from tensorflow.keras.optimizers import SGD\n",
        "import pandas as pd\n",
        "import numpy as np\n",
        "import matplotlib.pyplot as plt\n",
        "import cv2\n",
        "from random import randint\n",
        "from skimage import color \n",
        "from google.colab.patches import cv2_imshow\n",
        " "
      ]
    },
    {
      "cell_type": "code",
      "source": [
        "# tai du lieu \n",
        "(x_train,y_train) , (x_test,y_test) = mnist.load_data()"
      ],
      "metadata": {
        "id": "29QG_r4fjlUG"
      },
      "execution_count": null,
      "outputs": []
    },
    {
      "cell_type": "code",
      "source": [
        "X=x_test"
      ],
      "metadata": {
        "id": "fLglcVZwlXid"
      },
      "execution_count": null,
      "outputs": []
    },
    {
      "cell_type": "code",
      "source": [
        "import matplotlib.pyplot as plt\n",
        "for i in range(9):\n",
        "  plt.subplot(330+i+1)\n",
        "  plt.imshow(x_train[i])\n",
        "plt.show()"
      ],
      "metadata": {
        "colab": {
          "base_uri": "https://localhost:8080/",
          "height": 268
        },
        "id": "Ja1d1PcmkJ_H",
        "outputId": "3fbcd3b1-3134-4824-e4cb-6bef4c247104"
      },
      "execution_count": null,
      "outputs": [
        {
          "output_type": "display_data",
          "data": {
            "text/plain": [
              "<Figure size 432x288 with 9 Axes>"
            ],
            "image/png": "[encoded data removed]"
          },
          "metadata": {
            "needs_background": "light"
          }
        }
      ]
    },
    {
      "cell_type": "code",
      "source": [
        "classes =[0,1,2,3,4,5,6,7,8,9]"
      ],
      "metadata": {
        "id": "gvojojZNkOlT"
      },
      "execution_count": null,
      "outputs": []
    },
    {
      "cell_type": "code",
      "source": [
        "#chuyen ve so thuc\n",
        "x_train = x_train.astype('float32')\n",
        "x_test = x_test.astype('float32')\n",
        "\n",
        "#chuyen thanh dang vecto \n",
        "x_test=x_test.reshape(10000,784)\n",
        "x_train=x_train.reshape(60000,784)\n",
        "\n",
        "#xu li du lieu \n",
        "x_train/=255\n",
        "x_test/=255\n",
        "\n",
        "#one hot encoding\n",
        "y_train = to_categorical(y_train,10)\n",
        "y_test = to_categorical(y_test,10)"
      ],
      "metadata": {
        "id": "EzQMEJHvkRlD"
      },
      "execution_count": null,
      "outputs": []
    },
    {
      "cell_type": "code",
      "source": [
        "# Tạo Model\n",
        "model = Sequential()\n",
        "model.add(Dense(512,activation='relu',input_shape=(784,)))\n",
        "model.add(Dense(512,activation='relu'))\n",
        "model.add(Dropout(0.2))\n",
        "model.add(Dense(128,activation='relu'))\n",
        "model.add(Dropout(0.2))\n",
        "model.add(Dense(10,activation='softmax'))\n",
        "model.summary()\n",
        "model.compile(loss='categorical_crossentropy',optimizer=SGD(),metrics=['accuracy'])\n",
        "history = model.fit(x_train,y_train, batch_size=128, epochs=100,verbose=1, validation_data=(x_test, y_test))\n",
        " \n",
        "#luu model \n",
        "model.save('ANN_mnist.h5')"
      ],
      "metadata": {
        "colab": {
          "base_uri": "https://localhost:8080/"
        },
        "id": "uBvH42KwkVUb",
        "outputId": "8825fd26-27f0-4782-d400-7aaf701c9f3f"
      },
      "execution_count": null,
      "outputs": [
        {
          "output_type": "stream",
          "name": "stdout",
          "text": [
            "Model: \"sequential_3\"\n",
            "_________________________________________________________________\n",
            " Layer (type)                Output Shape              Param #   \n",
            "=================================================================\n",
            " dense_12 (Dense)            (None, 512)               401920    \n",
            "                                                                 \n",
            " dense_13 (Dense)            (None, 512)               262656    \n",
            "                                                                 \n",
            " dropout_6 (Dropout)         (None, 512)               0         \n",
            "                                                                 \n",
            " dense_14 (Dense)            (None, 128)               65664     \n",
            "                                                                 \n",
            " dropout_7 (Dropout)         (None, 128)               0         \n",
            "                                                                 \n",
            " dense_15 (Dense)            (None, 10)                1290      \n",
            "                                                                 \n",
            "=================================================================\n",
            "Total params: 731,530\n",
            "Trainable params: 731,530\n",
            "Non-trainable params: 0\n",
            "_________________________________________________________________\n",
            "Epoch 1/100\n",
            "469/469 [==============================] - 8s 16ms/step - loss: 1.2693 - accuracy: 0.6436 - val_loss: 0.5271 - val_accuracy: 0.8701\n",
            "Epoch 2/100\n",
            "469/469 [==============================] - 8s 18ms/step - loss: 0.5329 - accuracy: 0.8444 - val_loss: 0.3502 - val_accuracy: 0.9050\n",
            "Epoch 3/100\n",
            "469/469 [==============================] - 8s 16ms/step - loss: 0.4095 - accuracy: 0.8810 - val_loss: 0.2952 - val_accuracy: 0.9145\n",
            "Epoch 4/100\n",
            "469/469 [==============================] - 8s 16ms/step - loss: 0.3525 - accuracy: 0.8982 - val_loss: 0.2616 - val_accuracy: 0.9239\n",
            "Epoch 5/100\n",
            "469/469 [==============================] - 8s 17ms/step - loss: 0.3171 - accuracy: 0.9077 - val_loss: 0.2393 - val_accuracy: 0.9283\n",
            "Epoch 6/100\n",
            "469/469 [==============================] - 7s 16ms/step - loss: 0.2885 - accuracy: 0.9159 - val_loss: 0.2207 - val_accuracy: 0.9355\n",
            "Epoch 7/100\n",
            "469/469 [==============================] - 10s 21ms/step - loss: 0.2661 - accuracy: 0.9220 - val_loss: 0.2037 - val_accuracy: 0.9402\n",
            "Epoch 8/100\n",
            "469/469 [==============================] - 7s 16ms/step - loss: 0.2467 - accuracy: 0.9283 - val_loss: 0.1919 - val_accuracy: 0.9438\n",
            "Epoch 9/100\n",
            "469/469 [==============================] - 7s 16ms/step - loss: 0.2321 - accuracy: 0.9330 - val_loss: 0.1809 - val_accuracy: 0.9472\n",
            "Epoch 10/100\n",
            "469/469 [==============================] - 7s 16ms/step - loss: 0.2186 - accuracy: 0.9364 - val_loss: 0.1722 - val_accuracy: 0.9476\n",
            "Epoch 11/100\n",
            "469/469 [==============================] - 7s 16ms/step - loss: 0.2073 - accuracy: 0.9398 - val_loss: 0.1629 - val_accuracy: 0.9514\n",
            "Epoch 12/100\n",
            "469/469 [==============================] - 8s 16ms/step - loss: 0.1952 - accuracy: 0.9441 - val_loss: 0.1569 - val_accuracy: 0.9544\n",
            "Epoch 13/100\n",
            "469/469 [==============================] - 7s 16ms/step - loss: 0.1868 - accuracy: 0.9458 - val_loss: 0.1495 - val_accuracy: 0.9545\n",
            "Epoch 14/100\n",
            "469/469 [==============================] - 7s 16ms/step - loss: 0.1771 - accuracy: 0.9482 - val_loss: 0.1441 - val_accuracy: 0.9577\n",
            "Epoch 15/100\n",
            "469/469 [==============================] - 8s 16ms/step - loss: 0.1701 - accuracy: 0.9504 - val_loss: 0.1384 - val_accuracy: 0.9588\n",
            "Epoch 16/100\n",
            "469/469 [==============================] - 7s 16ms/step - loss: 0.1623 - accuracy: 0.9534 - val_loss: 0.1344 - val_accuracy: 0.9598\n",
            "Epoch 17/100\n",
            "469/469 [==============================] - 9s 19ms/step - loss: 0.1562 - accuracy: 0.9550 - val_loss: 0.1301 - val_accuracy: 0.9604\n",
            "Epoch 18/100\n",
            "469/469 [==============================] - 13s 27ms/step - loss: 0.1501 - accuracy: 0.9564 - val_loss: 0.1250 - val_accuracy: 0.9611\n",
            "Epoch 19/100\n",
            "469/469 [==============================] - 9s 20ms/step - loss: 0.1450 - accuracy: 0.9580 - val_loss: 0.1217 - val_accuracy: 0.9621\n",
            "Epoch 20/100\n",
            "469/469 [==============================] - 7s 16ms/step - loss: 0.1411 - accuracy: 0.9588 - val_loss: 0.1186 - val_accuracy: 0.9628\n",
            "Epoch 21/100\n",
            "469/469 [==============================] - 7s 16ms/step - loss: 0.1354 - accuracy: 0.9607 - val_loss: 0.1172 - val_accuracy: 0.9633\n",
            "Epoch 22/100\n",
            "469/469 [==============================] - 7s 16ms/step - loss: 0.1325 - accuracy: 0.9615 - val_loss: 0.1121 - val_accuracy: 0.9649\n",
            "Epoch 23/100\n",
            "469/469 [==============================] - 7s 16ms/step - loss: 0.1287 - accuracy: 0.9627 - val_loss: 0.1093 - val_accuracy: 0.9655\n",
            "Epoch 24/100\n",
            "469/469 [==============================] - 8s 16ms/step - loss: 0.1234 - accuracy: 0.9638 - val_loss: 0.1079 - val_accuracy: 0.9657\n",
            "Epoch 25/100\n",
            "469/469 [==============================] - 7s 16ms/step - loss: 0.1202 - accuracy: 0.9647 - val_loss: 0.1048 - val_accuracy: 0.9670\n",
            "Epoch 26/100\n",
            "469/469 [==============================] - 8s 16ms/step - loss: 0.1158 - accuracy: 0.9673 - val_loss: 0.1035 - val_accuracy: 0.9667\n",
            "Epoch 27/100\n",
            "469/469 [==============================] - 8s 16ms/step - loss: 0.1123 - accuracy: 0.9672 - val_loss: 0.1004 - val_accuracy: 0.9685\n",
            "Epoch 28/100\n",
            "469/469 [==============================] - 8s 16ms/step - loss: 0.1102 - accuracy: 0.9684 - val_loss: 0.0984 - val_accuracy: 0.9685\n",
            "Epoch 29/100\n",
            "469/469 [==============================] - 8s 16ms/step - loss: 0.1053 - accuracy: 0.9692 - val_loss: 0.0979 - val_accuracy: 0.9686\n",
            "Epoch 30/100\n",
            "469/469 [==============================] - 9s 19ms/step - loss: 0.1031 - accuracy: 0.9699 - val_loss: 0.0950 - val_accuracy: 0.9699\n",
            "Epoch 31/100\n",
            "469/469 [==============================] - 8s 17ms/step - loss: 0.0993 - accuracy: 0.9711 - val_loss: 0.0918 - val_accuracy: 0.9704\n",
            "Epoch 32/100\n",
            "469/469 [==============================] - 7s 16ms/step - loss: 0.0963 - accuracy: 0.9709 - val_loss: 0.0913 - val_accuracy: 0.9711\n",
            "Epoch 33/100\n",
            "469/469 [==============================] - 7s 16ms/step - loss: 0.0944 - accuracy: 0.9725 - val_loss: 0.0897 - val_accuracy: 0.9713\n",
            "Epoch 34/100\n",
            "469/469 [==============================] - 7s 16ms/step - loss: 0.0923 - accuracy: 0.9736 - val_loss: 0.0885 - val_accuracy: 0.9714\n",
            "Epoch 35/100\n",
            "469/469 [==============================] - 7s 16ms/step - loss: 0.0893 - accuracy: 0.9737 - val_loss: 0.0878 - val_accuracy: 0.9722\n",
            "Epoch 36/100\n",
            "469/469 [==============================] - 7s 16ms/step - loss: 0.0887 - accuracy: 0.9739 - val_loss: 0.0850 - val_accuracy: 0.9720\n",
            "Epoch 37/100\n",
            "469/469 [==============================] - 7s 15ms/step - loss: 0.0853 - accuracy: 0.9750 - val_loss: 0.0848 - val_accuracy: 0.9723\n",
            "Epoch 38/100\n",
            "469/469 [==============================] - 7s 15ms/step - loss: 0.0834 - accuracy: 0.9755 - val_loss: 0.0832 - val_accuracy: 0.9727\n",
            "Epoch 39/100\n",
            "469/469 [==============================] - 7s 15ms/step - loss: 0.0809 - accuracy: 0.9759 - val_loss: 0.0817 - val_accuracy: 0.9731\n",
            "Epoch 40/100\n",
            "469/469 [==============================] - 7s 16ms/step - loss: 0.0791 - accuracy: 0.9769 - val_loss: 0.0821 - val_accuracy: 0.9730\n",
            "Epoch 41/100\n",
            "469/469 [==============================] - 8s 17ms/step - loss: 0.0777 - accuracy: 0.9772 - val_loss: 0.0798 - val_accuracy: 0.9739\n",
            "Epoch 42/100\n",
            "469/469 [==============================] - 7s 15ms/step - loss: 0.0754 - accuracy: 0.9775 - val_loss: 0.0786 - val_accuracy: 0.9744\n",
            "Epoch 43/100\n",
            "469/469 [==============================] - 7s 15ms/step - loss: 0.0748 - accuracy: 0.9783 - val_loss: 0.0788 - val_accuracy: 0.9740\n",
            "Epoch 44/100\n",
            "469/469 [==============================] - 7s 15ms/step - loss: 0.0719 - accuracy: 0.9785 - val_loss: 0.0782 - val_accuracy: 0.9741\n",
            "Epoch 45/100\n",
            "469/469 [==============================] - 7s 15ms/step - loss: 0.0703 - accuracy: 0.9786 - val_loss: 0.0779 - val_accuracy: 0.9742\n",
            "Epoch 46/100\n",
            "469/469 [==============================] - 7s 15ms/step - loss: 0.0698 - accuracy: 0.9796 - val_loss: 0.0786 - val_accuracy: 0.9741\n",
            "Epoch 47/100\n",
            "469/469 [==============================] - 7s 15ms/step - loss: 0.0668 - accuracy: 0.9805 - val_loss: 0.0759 - val_accuracy: 0.9748\n",
            "Epoch 48/100\n",
            "469/469 [==============================] - 7s 15ms/step - loss: 0.0660 - accuracy: 0.9805 - val_loss: 0.0742 - val_accuracy: 0.9760\n",
            "Epoch 49/100\n",
            "469/469 [==============================] - 7s 16ms/step - loss: 0.0644 - accuracy: 0.9811 - val_loss: 0.0728 - val_accuracy: 0.9765\n",
            "Epoch 50/100\n",
            "469/469 [==============================] - 7s 15ms/step - loss: 0.0636 - accuracy: 0.9817 - val_loss: 0.0724 - val_accuracy: 0.9763\n",
            "Epoch 51/100\n",
            "469/469 [==============================] - 7s 16ms/step - loss: 0.0606 - accuracy: 0.9821 - val_loss: 0.0718 - val_accuracy: 0.9773\n",
            "Epoch 52/100\n",
            "469/469 [==============================] - 7s 16ms/step - loss: 0.0592 - accuracy: 0.9826 - val_loss: 0.0711 - val_accuracy: 0.9773\n",
            "Epoch 53/100\n",
            "469/469 [==============================] - 7s 15ms/step - loss: 0.0587 - accuracy: 0.9836 - val_loss: 0.0714 - val_accuracy: 0.9769\n",
            "Epoch 54/100\n",
            "469/469 [==============================] - 7s 16ms/step - loss: 0.0567 - accuracy: 0.9833 - val_loss: 0.0703 - val_accuracy: 0.9777\n",
            "Epoch 55/100\n",
            "469/469 [==============================] - 7s 16ms/step - loss: 0.0559 - accuracy: 0.9833 - val_loss: 0.0694 - val_accuracy: 0.9774\n",
            "Epoch 56/100\n",
            "469/469 [==============================] - 8s 16ms/step - loss: 0.0547 - accuracy: 0.9844 - val_loss: 0.0690 - val_accuracy: 0.9787\n",
            "Epoch 57/100\n",
            "469/469 [==============================] - 7s 16ms/step - loss: 0.0546 - accuracy: 0.9841 - val_loss: 0.0686 - val_accuracy: 0.9778\n",
            "Epoch 58/100\n",
            "469/469 [==============================] - 7s 16ms/step - loss: 0.0528 - accuracy: 0.9846 - val_loss: 0.0676 - val_accuracy: 0.9786\n",
            "Epoch 59/100\n",
            "469/469 [==============================] - 8s 16ms/step - loss: 0.0522 - accuracy: 0.9848 - val_loss: 0.0677 - val_accuracy: 0.9790\n",
            "Epoch 60/100\n",
            "469/469 [==============================] - 8s 16ms/step - loss: 0.0505 - accuracy: 0.9854 - val_loss: 0.0673 - val_accuracy: 0.9789\n",
            "Epoch 61/100\n",
            "469/469 [==============================] - 7s 16ms/step - loss: 0.0494 - accuracy: 0.9859 - val_loss: 0.0674 - val_accuracy: 0.9794\n",
            "Epoch 62/100\n",
            "469/469 [==============================] - 7s 16ms/step - loss: 0.0499 - accuracy: 0.9856 - val_loss: 0.0677 - val_accuracy: 0.9789\n",
            "Epoch 63/100\n",
            "469/469 [==============================] - 8s 16ms/step - loss: 0.0470 - accuracy: 0.9864 - val_loss: 0.0666 - val_accuracy: 0.9791\n",
            "Epoch 64/100\n",
            "469/469 [==============================] - 7s 16ms/step - loss: 0.0474 - accuracy: 0.9858 - val_loss: 0.0659 - val_accuracy: 0.9799\n",
            "Epoch 65/100\n",
            "469/469 [==============================] - 8s 16ms/step - loss: 0.0461 - accuracy: 0.9862 - val_loss: 0.0657 - val_accuracy: 0.9790\n",
            "Epoch 66/100\n",
            "469/469 [==============================] - 8s 16ms/step - loss: 0.0457 - accuracy: 0.9869 - val_loss: 0.0649 - val_accuracy: 0.9791\n",
            "Epoch 67/100\n",
            "469/469 [==============================] - 8s 16ms/step - loss: 0.0435 - accuracy: 0.9874 - val_loss: 0.0651 - val_accuracy: 0.9800\n",
            "Epoch 68/100\n",
            "469/469 [==============================] - 7s 16ms/step - loss: 0.0442 - accuracy: 0.9871 - val_loss: 0.0641 - val_accuracy: 0.9798\n",
            "Epoch 69/100\n",
            "469/469 [==============================] - 7s 16ms/step - loss: 0.0421 - accuracy: 0.9879 - val_loss: 0.0639 - val_accuracy: 0.9808\n",
            "Epoch 70/100\n",
            "469/469 [==============================] - 7s 16ms/step - loss: 0.0422 - accuracy: 0.9878 - val_loss: 0.0637 - val_accuracy: 0.9796\n",
            "Epoch 71/100\n",
            "469/469 [==============================] - 7s 16ms/step - loss: 0.0406 - accuracy: 0.9883 - val_loss: 0.0632 - val_accuracy: 0.9807\n",
            "Epoch 72/100\n",
            "469/469 [==============================] - 7s 16ms/step - loss: 0.0401 - accuracy: 0.9883 - val_loss: 0.0631 - val_accuracy: 0.9809\n",
            "Epoch 73/100\n",
            "469/469 [==============================] - 7s 16ms/step - loss: 0.0382 - accuracy: 0.9892 - val_loss: 0.0630 - val_accuracy: 0.9809\n",
            "Epoch 74/100\n",
            "469/469 [==============================] - 8s 16ms/step - loss: 0.0389 - accuracy: 0.9891 - val_loss: 0.0630 - val_accuracy: 0.9800\n",
            "Epoch 75/100\n",
            "469/469 [==============================] - 8s 16ms/step - loss: 0.0372 - accuracy: 0.9889 - val_loss: 0.0634 - val_accuracy: 0.9809\n",
            "Epoch 76/100\n",
            "469/469 [==============================] - 8s 16ms/step - loss: 0.0369 - accuracy: 0.9892 - val_loss: 0.0627 - val_accuracy: 0.9802\n",
            "Epoch 77/100\n",
            "469/469 [==============================] - 8s 16ms/step - loss: 0.0362 - accuracy: 0.9898 - val_loss: 0.0634 - val_accuracy: 0.9798\n",
            "Epoch 78/100\n",
            "469/469 [==============================] - 8s 16ms/step - loss: 0.0350 - accuracy: 0.9899 - val_loss: 0.0621 - val_accuracy: 0.9810\n",
            "Epoch 79/100\n",
            "469/469 [==============================] - 7s 16ms/step - loss: 0.0353 - accuracy: 0.9899 - val_loss: 0.0618 - val_accuracy: 0.9804\n",
            "Epoch 80/100\n",
            "469/469 [==============================] - 8s 16ms/step - loss: 0.0348 - accuracy: 0.9898 - val_loss: 0.0619 - val_accuracy: 0.9800\n",
            "Epoch 81/100\n",
            "469/469 [==============================] - 8s 16ms/step - loss: 0.0333 - accuracy: 0.9907 - val_loss: 0.0621 - val_accuracy: 0.9799\n",
            "Epoch 82/100\n",
            "469/469 [==============================] - 8s 16ms/step - loss: 0.0328 - accuracy: 0.9909 - val_loss: 0.0613 - val_accuracy: 0.9805\n",
            "Epoch 83/100\n",
            "469/469 [==============================] - 8s 16ms/step - loss: 0.0326 - accuracy: 0.9905 - val_loss: 0.0610 - val_accuracy: 0.9807\n",
            "Epoch 84/100\n",
            "469/469 [==============================] - 8s 16ms/step - loss: 0.0318 - accuracy: 0.9911 - val_loss: 0.0615 - val_accuracy: 0.9801\n",
            "Epoch 85/100\n",
            "469/469 [==============================] - 8s 16ms/step - loss: 0.0317 - accuracy: 0.9908 - val_loss: 0.0611 - val_accuracy: 0.9807\n",
            "Epoch 86/100\n",
            "469/469 [==============================] - 7s 16ms/step - loss: 0.0304 - accuracy: 0.9917 - val_loss: 0.0611 - val_accuracy: 0.9811\n",
            "Epoch 87/100\n",
            "469/469 [==============================] - 8s 16ms/step - loss: 0.0297 - accuracy: 0.9917 - val_loss: 0.0610 - val_accuracy: 0.9810\n",
            "Epoch 88/100\n",
            "469/469 [==============================] - 8s 16ms/step - loss: 0.0285 - accuracy: 0.9923 - val_loss: 0.0622 - val_accuracy: 0.9805\n",
            "Epoch 89/100\n",
            "469/469 [==============================] - 8s 16ms/step - loss: 0.0282 - accuracy: 0.9921 - val_loss: 0.0621 - val_accuracy: 0.9805\n",
            "Epoch 90/100\n",
            "469/469 [==============================] - 8s 16ms/step - loss: 0.0277 - accuracy: 0.9923 - val_loss: 0.0607 - val_accuracy: 0.9810\n",
            "Epoch 91/100\n",
            "469/469 [==============================] - 8s 16ms/step - loss: 0.0278 - accuracy: 0.9924 - val_loss: 0.0613 - val_accuracy: 0.9802\n",
            "Epoch 92/100\n",
            "469/469 [==============================] - 8s 16ms/step - loss: 0.0272 - accuracy: 0.9923 - val_loss: 0.0609 - val_accuracy: 0.9808\n",
            "Epoch 93/100\n",
            "469/469 [==============================] - 8s 16ms/step - loss: 0.0270 - accuracy: 0.9928 - val_loss: 0.0624 - val_accuracy: 0.9805\n",
            "Epoch 94/100\n",
            "469/469 [==============================] - 8s 16ms/step - loss: 0.0260 - accuracy: 0.9930 - val_loss: 0.0606 - val_accuracy: 0.9811\n",
            "Epoch 95/100\n",
            "469/469 [==============================] - 8s 16ms/step - loss: 0.0262 - accuracy: 0.9923 - val_loss: 0.0600 - val_accuracy: 0.9819\n",
            "Epoch 96/100\n",
            "469/469 [==============================] - 7s 16ms/step - loss: 0.0254 - accuracy: 0.9930 - val_loss: 0.0611 - val_accuracy: 0.9806\n",
            "Epoch 97/100\n",
            "469/469 [==============================] - 7s 16ms/step - loss: 0.0242 - accuracy: 0.9934 - val_loss: 0.0599 - val_accuracy: 0.9812\n",
            "Epoch 98/100\n",
            "469/469 [==============================] - 8s 16ms/step - loss: 0.0242 - accuracy: 0.9937 - val_loss: 0.0601 - val_accuracy: 0.9808\n",
            "Epoch 99/100\n",
            "469/469 [==============================] - 8s 16ms/step - loss: 0.0248 - accuracy: 0.9930 - val_loss: 0.0600 - val_accuracy: 0.9810\n",
            "Epoch 100/100\n",
            "469/469 [==============================] - 8s 16ms/step - loss: 0.0235 - accuracy: 0.9936 - val_loss: 0.0595 - val_accuracy: 0.9817\n"
          ]
        }
      ]
    },
    {
      "cell_type": "code",
      "source": [
        "#danh gia model\n",
        "score = model.evaluate(x_test, y_test, verbose = 1)"
      ],
      "metadata": {
        "colab": {
          "base_uri": "https://localhost:8080/"
        },
        "id": "LSHuuxUEnUDt",
        "outputId": "2f29a97e-9b48-4826-9caa-6c0c9ffdef98"
      },
      "execution_count": null,
      "outputs": [
        {
          "output_type": "stream",
          "name": "stdout",
          "text": [
            "313/313 [==============================] - 1s 3ms/step - loss: 0.0595 - accuracy: 0.9817\n"
          ]
        }
      ]
    },
    {
      "cell_type": "code",
      "source": [
        "# Graphs of accuracy\n",
        "plt.figure(figsize=(8,5))\n",
        "plt.grid(True)\n",
        "plt.plot(history.history['accuracy'])\n",
        "plt.plot(history.history['val_accuracy'])\n",
        "plt.title('model accuracy')\n",
        "plt.ylabel('accuracy')\n",
        "plt.xlabel('epoch')\n",
        "plt.legend(['train','validation'],loc='lower right')\n",
        "plt.show()"
      ],
      "metadata": {
        "colab": {
          "base_uri": "https://localhost:8080/",
          "height": 350
        },
        "id": "bRdtetVlku8r",
        "outputId": "29df84b7-3d94-4bda-ccdd-487783285458"
      },
      "execution_count": null,
      "outputs": [
        {
          "output_type": "display_data",
          "data": {
            "text/plain": [
              "<Figure size 576x360 with 1 Axes>"
            ],
            "image/png": "[encoded data removed]"
          },
          "metadata": {
            "needs_background": "light"
          }
        }
      ]
    },
    {
      "cell_type": "code",
      "source": [
        "y_pred=model.predict(x_test)\n",
        "plt.imshow(X[5])\n",
        "label=int(np.argmax(y_pred[5]))\n",
        "classes[label]"
      ],
      "metadata": {
        "colab": {
          "base_uri": "https://localhost:8080/",
          "height": 282
        },
        "id": "WWG8KE0OkwRA",
        "outputId": "02ce497f-a9bc-4986-df9a-04aa09babeb5"
      },
      "execution_count": null,
      "outputs": [
        {
          "output_type": "execute_result",
          "data": {
            "text/plain": [
              "1"
            ]
          },
          "metadata": {},
          "execution_count": 34
        },
        {
          "output_type": "display_data",
          "data": {
            "text/plain": [
              "<Figure size 432x288 with 1 Axes>"
            ],
            "image/png": "[encoded data removed]"
          },
          "metadata": {
            "needs_background": "light"
          }
        }
      ]
    },
    {
      "cell_type": "code",
      "source": [
        "y_pred=model.predict(x_test)\n",
        "plt.imshow(X[3])\n",
        "label=int(np.argmax(y_pred[3]))\n",
        "classes[label]"
      ],
      "metadata": {
        "colab": {
          "base_uri": "https://localhost:8080/",
          "height": 282
        },
        "id": "-NOHcDBlk2Lu",
        "outputId": "0c070a69-ad1e-4248-d116-3d9c0205c726"
      },
      "execution_count": null,
      "outputs": [
        {
          "output_type": "execute_result",
          "data": {
            "text/plain": [
              "0"
            ]
          },
          "metadata": {},
          "execution_count": 36
        },
        {
          "output_type": "display_data",
          "data": {
            "text/plain": [
              "<Figure size 432x288 with 1 Axes>"
            ],
            "image/png": "[encoded data removed]"
          },
          "metadata": {
            "needs_background": "light"
          }
        }
      ]
    }
  ]
}