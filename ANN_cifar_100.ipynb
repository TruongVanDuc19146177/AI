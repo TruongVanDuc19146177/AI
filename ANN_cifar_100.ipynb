{
  "nbformat": 4,
  "nbformat_minor": 0,
  "metadata": {
    "colab": {
      "name": "ANN_cifar_100",
      "provenance": [],
      "authorship_tag": "ABX9TyMdeUD09JERDq1a3Bo8kzKI",
      "include_colab_link": true
    },
    "kernelspec": {
      "name": "python3",
      "display_name": "Python 3"
    },
    "language_info": {
      "name": "python"
    },
    "accelerator": "GPU"
  },
  "cells": [
    {
      "cell_type": "markdown",
      "metadata": {
        "id": "view-in-github",
        "colab_type": "text"
      },
      "source": [
        "<a href=\"https://colab.research.google.com/github/TruongVanDuc19146177/AI/blob/main/ANN_cifar_100.ipynb\" target=\"_parent\"><img src=\"https://colab.research.google.com/assets/colab-badge.svg\" alt=\"Open In Colab\"/></a>"
      ]
    },
    {
      "cell_type": "code",
      "execution_count": null,
      "metadata": {
        "id": "fkR5tWCw0zxe"
      },
      "outputs": [],
      "source": [
        "from keras.models import Sequential\n",
        "from keras.layers import Dense, Flatten, Dropout\n",
        "from keras.datasets import cifar100\n",
        "from tensorflow.keras.optimizers import Adam, SGD\n",
        "import pandas as pd\n",
        "import numpy as np\n",
        "import matplotlib.pyplot as plt\n",
        "import cv2\n",
        "from random import randint\n",
        "from google.colab.patches import cv2_imshow\n",
        "from tensorflow.keras.utils import to_categorical"
      ]
    },
    {
      "cell_type": "code",
      "source": [
        "#tai du lieu \n",
        "(x_train,y_train),(x_test,y_test) = cifar100.load_data()\n",
        "#gan bien \n",
        "X = x_test;\n",
        "\n",
        "\n",
        " "
      ],
      "metadata": {
        "id": "fH6Q-CrO4rwc"
      },
      "execution_count": null,
      "outputs": []
    },
    {
      "cell_type": "code",
      "source": [
        "x_train.shape"
      ],
      "metadata": {
        "colab": {
          "base_uri": "https://localhost:8080/"
        },
        "id": "yZbZCtK6-aGV",
        "outputId": "3b525a21-6124-4054-81b8-26a4cbb439c5"
      },
      "execution_count": null,
      "outputs": [
        {
          "output_type": "execute_result",
          "data": {
            "text/plain": [
              "(50000, 32, 32, 3)"
            ]
          },
          "metadata": {},
          "execution_count": 32
        }
      ]
    },
    {
      "cell_type": "code",
      "source": [
        "x_test.shape"
      ],
      "metadata": {
        "colab": {
          "base_uri": "https://localhost:8080/"
        },
        "id": "fa3H5cbP-aQi",
        "outputId": "bca9295e-cb69-4404-b1cf-7bcbb098eef2"
      },
      "execution_count": null,
      "outputs": [
        {
          "output_type": "execute_result",
          "data": {
            "text/plain": [
              "(10000, 32, 32, 3)"
            ]
          },
          "metadata": {},
          "execution_count": 33
        }
      ]
    },
    {
      "cell_type": "code",
      "source": [
        "x_train = x_train/255.0\n",
        "x_test = x_test/255.0\n",
        "y_train = to_categorical(y_train,100)\n",
        "y_test = to_categorical(y_test,100)"
      ],
      "metadata": {
        "id": "A-22EE8_53Ti"
      },
      "execution_count": null,
      "outputs": []
    },
    {
      "cell_type": "code",
      "source": [
        "#chuyen thanh dang vecto \n",
        "x_train=x_train.reshape(50000,1024)\n",
        "x_test=x_test.reshape(10000,1024)\n",
        " "
      ],
      "metadata": {
        "id": "G7xeAxZ84nKV"
      },
      "execution_count": null,
      "outputs": []
    },
    {
      "cell_type": "code",
      "source": [
        "# Tạo Model\n",
        "model = Sequential()\n",
        "model.add(Flatten(input_shape=(32,32,3)))\n",
        "model.add(Dense(512,activation='relu'))\n",
        "model.add(Dropout(0.2))\n",
        "model.add(Dense(256,activation='relu'))\n",
        "model.add(Dropout(0.2))\n",
        "model.add(Dense(100,activation='softmax'))\n",
        "model.summary()\n",
        "model.compile(loss='categorical_crossentropy',optimizer=SGD(),metrics=['accuracy'])\n",
        "history = model.fit(x_train,y_train, batch_size=64, epochs=128,verbose=1, validation_data=(x_test, y_test))\n",
        "score = model.evaluate(x_test, y_test, verbose = 0)\n",
        "print('Test accuracy:', score[1])"
      ],
      "metadata": {
        "colab": {
          "base_uri": "https://localhost:8080/"
        },
        "id": "2bRG1n4S79Ly",
        "outputId": "bd15e7da-7460-4f73-e0c0-d90c9aca8e09"
      },
      "execution_count": null,
      "outputs": [
        {
          "output_type": "stream",
          "name": "stdout",
          "text": [
            "Model: \"sequential_5\"\n",
            "_________________________________________________________________\n",
            " Layer (type)                Output Shape              Param #   \n",
            "=================================================================\n",
            " flatten (Flatten)           (None, 3072)              0         \n",
            "                                                                 \n",
            " dense_20 (Dense)            (None, 512)               1573376   \n",
            "                                                                 \n",
            " dropout_18 (Dropout)        (None, 512)               0         \n",
            "                                                                 \n",
            " dense_21 (Dense)            (None, 256)               131328    \n",
            "                                                                 \n",
            " dropout_19 (Dropout)        (None, 256)               0         \n",
            "                                                                 \n",
            " dense_22 (Dense)            (None, 100)               25700     \n",
            "                                                                 \n",
            "=================================================================\n",
            "Total params: 1,730,404\n",
            "Trainable params: 1,730,404\n",
            "Non-trainable params: 0\n",
            "_________________________________________________________________\n",
            "Epoch 1/128\n",
            "782/782 [==============================] - 4s 4ms/step - loss: 4.5049 - accuracy: 0.0287 - val_loss: 4.3139 - val_accuracy: 0.0580\n",
            "Epoch 2/128\n",
            "782/782 [==============================] - 3s 3ms/step - loss: 4.2374 - accuracy: 0.0601 - val_loss: 4.0774 - val_accuracy: 0.0860\n",
            "Epoch 3/128\n",
            "782/782 [==============================] - 3s 4ms/step - loss: 4.0743 - accuracy: 0.0790 - val_loss: 3.9461 - val_accuracy: 0.1000\n",
            "Epoch 4/128\n",
            "782/782 [==============================] - 3s 4ms/step - loss: 3.9598 - accuracy: 0.0984 - val_loss: 3.8442 - val_accuracy: 0.1272\n",
            "Epoch 5/128\n",
            "782/782 [==============================] - 3s 4ms/step - loss: 3.8774 - accuracy: 0.1105 - val_loss: 3.7811 - val_accuracy: 0.1371\n",
            "Epoch 6/128\n",
            "782/782 [==============================] - 3s 4ms/step - loss: 3.8103 - accuracy: 0.1226 - val_loss: 3.7300 - val_accuracy: 0.1430\n",
            "Epoch 7/128\n",
            "782/782 [==============================] - 3s 4ms/step - loss: 3.7635 - accuracy: 0.1301 - val_loss: 3.6915 - val_accuracy: 0.1553\n",
            "Epoch 8/128\n",
            "782/782 [==============================] - 3s 4ms/step - loss: 3.7198 - accuracy: 0.1388 - val_loss: 3.6680 - val_accuracy: 0.1540\n",
            "Epoch 9/128\n",
            "782/782 [==============================] - 3s 4ms/step - loss: 3.6862 - accuracy: 0.1443 - val_loss: 3.6192 - val_accuracy: 0.1645\n",
            "Epoch 10/128\n",
            "782/782 [==============================] - 3s 4ms/step - loss: 3.6490 - accuracy: 0.1536 - val_loss: 3.6034 - val_accuracy: 0.1654\n",
            "Epoch 11/128\n",
            "782/782 [==============================] - 3s 4ms/step - loss: 3.6154 - accuracy: 0.1592 - val_loss: 3.5741 - val_accuracy: 0.1726\n",
            "Epoch 12/128\n",
            "782/782 [==============================] - 3s 4ms/step - loss: 3.5854 - accuracy: 0.1633 - val_loss: 3.5433 - val_accuracy: 0.1749\n",
            "Epoch 13/128\n",
            "782/782 [==============================] - 3s 4ms/step - loss: 3.5571 - accuracy: 0.1698 - val_loss: 3.5263 - val_accuracy: 0.1794\n",
            "Epoch 14/128\n",
            "782/782 [==============================] - 3s 4ms/step - loss: 3.5359 - accuracy: 0.1716 - val_loss: 3.4969 - val_accuracy: 0.1862\n",
            "Epoch 15/128\n",
            "782/782 [==============================] - 3s 4ms/step - loss: 3.5037 - accuracy: 0.1786 - val_loss: 3.5038 - val_accuracy: 0.1837\n",
            "Epoch 16/128\n",
            "782/782 [==============================] - 3s 4ms/step - loss: 3.4763 - accuracy: 0.1830 - val_loss: 3.4744 - val_accuracy: 0.1905\n",
            "Epoch 17/128\n",
            "782/782 [==============================] - 3s 4ms/step - loss: 3.4586 - accuracy: 0.1859 - val_loss: 3.4523 - val_accuracy: 0.1947\n",
            "Epoch 18/128\n",
            "782/782 [==============================] - 3s 3ms/step - loss: 3.4375 - accuracy: 0.1897 - val_loss: 3.4223 - val_accuracy: 0.2011\n",
            "Epoch 19/128\n",
            "782/782 [==============================] - 3s 4ms/step - loss: 3.4180 - accuracy: 0.1926 - val_loss: 3.4160 - val_accuracy: 0.2070\n",
            "Epoch 20/128\n",
            "782/782 [==============================] - 3s 4ms/step - loss: 3.3927 - accuracy: 0.1982 - val_loss: 3.4414 - val_accuracy: 0.1999\n",
            "Epoch 21/128\n",
            "782/782 [==============================] - 3s 3ms/step - loss: 3.3734 - accuracy: 0.1990 - val_loss: 3.3705 - val_accuracy: 0.2122\n",
            "Epoch 22/128\n",
            "782/782 [==============================] - 3s 4ms/step - loss: 3.3540 - accuracy: 0.2048 - val_loss: 3.3544 - val_accuracy: 0.2134\n",
            "Epoch 23/128\n",
            "782/782 [==============================] - 3s 4ms/step - loss: 3.3353 - accuracy: 0.2068 - val_loss: 3.3369 - val_accuracy: 0.2173\n",
            "Epoch 24/128\n",
            "782/782 [==============================] - 3s 3ms/step - loss: 3.3206 - accuracy: 0.2104 - val_loss: 3.3445 - val_accuracy: 0.2155\n",
            "Epoch 25/128\n",
            "782/782 [==============================] - 3s 3ms/step - loss: 3.3010 - accuracy: 0.2149 - val_loss: 3.3237 - val_accuracy: 0.2171\n",
            "Epoch 26/128\n",
            "782/782 [==============================] - 3s 3ms/step - loss: 3.2822 - accuracy: 0.2165 - val_loss: 3.3188 - val_accuracy: 0.2191\n",
            "Epoch 27/128\n",
            "782/782 [==============================] - 3s 3ms/step - loss: 3.2711 - accuracy: 0.2200 - val_loss: 3.3028 - val_accuracy: 0.2220\n",
            "Epoch 28/128\n",
            "782/782 [==============================] - 3s 3ms/step - loss: 3.2550 - accuracy: 0.2225 - val_loss: 3.3070 - val_accuracy: 0.2192\n",
            "Epoch 29/128\n",
            "782/782 [==============================] - 3s 4ms/step - loss: 3.2402 - accuracy: 0.2258 - val_loss: 3.2701 - val_accuracy: 0.2288\n",
            "Epoch 30/128\n",
            "782/782 [==============================] - 3s 4ms/step - loss: 3.2255 - accuracy: 0.2294 - val_loss: 3.2764 - val_accuracy: 0.2301\n",
            "Epoch 31/128\n",
            "782/782 [==============================] - 3s 3ms/step - loss: 3.2098 - accuracy: 0.2274 - val_loss: 3.2805 - val_accuracy: 0.2243\n",
            "Epoch 32/128\n",
            "782/782 [==============================] - 3s 4ms/step - loss: 3.1959 - accuracy: 0.2318 - val_loss: 3.2488 - val_accuracy: 0.2319\n",
            "Epoch 33/128\n",
            "782/782 [==============================] - 3s 4ms/step - loss: 3.1837 - accuracy: 0.2335 - val_loss: 3.2489 - val_accuracy: 0.2310\n",
            "Epoch 34/128\n",
            "782/782 [==============================] - 3s 3ms/step - loss: 3.1678 - accuracy: 0.2391 - val_loss: 3.2241 - val_accuracy: 0.2329\n",
            "Epoch 35/128\n",
            "782/782 [==============================] - 3s 3ms/step - loss: 3.1539 - accuracy: 0.2403 - val_loss: 3.2185 - val_accuracy: 0.2405\n",
            "Epoch 36/128\n",
            "782/782 [==============================] - 3s 3ms/step - loss: 3.1442 - accuracy: 0.2401 - val_loss: 3.2230 - val_accuracy: 0.2414\n",
            "Epoch 37/128\n",
            "782/782 [==============================] - 3s 4ms/step - loss: 3.1316 - accuracy: 0.2439 - val_loss: 3.2158 - val_accuracy: 0.2376\n",
            "Epoch 38/128\n",
            "782/782 [==============================] - 3s 4ms/step - loss: 3.1174 - accuracy: 0.2464 - val_loss: 3.2128 - val_accuracy: 0.2402\n",
            "Epoch 39/128\n",
            "782/782 [==============================] - 3s 4ms/step - loss: 3.1059 - accuracy: 0.2498 - val_loss: 3.1921 - val_accuracy: 0.2420\n",
            "Epoch 40/128\n",
            "782/782 [==============================] - 3s 4ms/step - loss: 3.0923 - accuracy: 0.2500 - val_loss: 3.1848 - val_accuracy: 0.2464\n",
            "Epoch 41/128\n",
            "782/782 [==============================] - 3s 4ms/step - loss: 3.0842 - accuracy: 0.2527 - val_loss: 3.1735 - val_accuracy: 0.2469\n",
            "Epoch 42/128\n",
            "782/782 [==============================] - 3s 3ms/step - loss: 3.0665 - accuracy: 0.2558 - val_loss: 3.1840 - val_accuracy: 0.2440\n",
            "Epoch 43/128\n",
            "782/782 [==============================] - 3s 4ms/step - loss: 3.0631 - accuracy: 0.2575 - val_loss: 3.1865 - val_accuracy: 0.2421\n",
            "Epoch 44/128\n",
            "782/782 [==============================] - 3s 4ms/step - loss: 3.0506 - accuracy: 0.2592 - val_loss: 3.1496 - val_accuracy: 0.2519\n",
            "Epoch 45/128\n",
            "782/782 [==============================] - 3s 3ms/step - loss: 3.0378 - accuracy: 0.2605 - val_loss: 3.1406 - val_accuracy: 0.2542\n",
            "Epoch 46/128\n",
            "782/782 [==============================] - 3s 4ms/step - loss: 3.0252 - accuracy: 0.2599 - val_loss: 3.1434 - val_accuracy: 0.2504\n",
            "Epoch 47/128\n",
            "782/782 [==============================] - 3s 3ms/step - loss: 3.0178 - accuracy: 0.2665 - val_loss: 3.1463 - val_accuracy: 0.2526\n",
            "Epoch 48/128\n",
            "782/782 [==============================] - 3s 4ms/step - loss: 3.0044 - accuracy: 0.2664 - val_loss: 3.1467 - val_accuracy: 0.2511\n",
            "Epoch 49/128\n",
            "782/782 [==============================] - 3s 4ms/step - loss: 2.9943 - accuracy: 0.2687 - val_loss: 3.1746 - val_accuracy: 0.2445\n",
            "Epoch 50/128\n",
            "782/782 [==============================] - 3s 3ms/step - loss: 2.9845 - accuracy: 0.2700 - val_loss: 3.1239 - val_accuracy: 0.2534\n",
            "Epoch 51/128\n",
            "782/782 [==============================] - 3s 4ms/step - loss: 2.9740 - accuracy: 0.2734 - val_loss: 3.1867 - val_accuracy: 0.2424\n",
            "Epoch 52/128\n",
            "782/782 [==============================] - 3s 4ms/step - loss: 2.9639 - accuracy: 0.2751 - val_loss: 3.1386 - val_accuracy: 0.2567\n",
            "Epoch 53/128\n",
            "782/782 [==============================] - 3s 4ms/step - loss: 2.9543 - accuracy: 0.2783 - val_loss: 3.1409 - val_accuracy: 0.2516\n",
            "Epoch 54/128\n",
            "782/782 [==============================] - 3s 4ms/step - loss: 2.9432 - accuracy: 0.2803 - val_loss: 3.1354 - val_accuracy: 0.2521\n",
            "Epoch 55/128\n",
            "782/782 [==============================] - 3s 3ms/step - loss: 2.9368 - accuracy: 0.2781 - val_loss: 3.0934 - val_accuracy: 0.2611\n",
            "Epoch 56/128\n",
            "782/782 [==============================] - 3s 3ms/step - loss: 2.9304 - accuracy: 0.2813 - val_loss: 3.0834 - val_accuracy: 0.2616\n",
            "Epoch 57/128\n",
            "782/782 [==============================] - 3s 4ms/step - loss: 2.9173 - accuracy: 0.2847 - val_loss: 3.0966 - val_accuracy: 0.2636\n",
            "Epoch 58/128\n",
            "782/782 [==============================] - 3s 3ms/step - loss: 2.9071 - accuracy: 0.2855 - val_loss: 3.0778 - val_accuracy: 0.2650\n",
            "Epoch 59/128\n",
            "782/782 [==============================] - 3s 4ms/step - loss: 2.8959 - accuracy: 0.2864 - val_loss: 3.0806 - val_accuracy: 0.2627\n",
            "Epoch 60/128\n",
            "782/782 [==============================] - 3s 3ms/step - loss: 2.8919 - accuracy: 0.2887 - val_loss: 3.0880 - val_accuracy: 0.2637\n",
            "Epoch 61/128\n",
            "782/782 [==============================] - 3s 4ms/step - loss: 2.8793 - accuracy: 0.2893 - val_loss: 3.0604 - val_accuracy: 0.2695\n",
            "Epoch 62/128\n",
            "782/782 [==============================] - 3s 4ms/step - loss: 2.8707 - accuracy: 0.2912 - val_loss: 3.0651 - val_accuracy: 0.2673\n",
            "Epoch 63/128\n",
            "782/782 [==============================] - 3s 4ms/step - loss: 2.8612 - accuracy: 0.2925 - val_loss: 3.0900 - val_accuracy: 0.2648\n",
            "Epoch 64/128\n",
            "782/782 [==============================] - 3s 4ms/step - loss: 2.8555 - accuracy: 0.2920 - val_loss: 3.1155 - val_accuracy: 0.2558\n",
            "Epoch 65/128\n",
            "782/782 [==============================] - 3s 4ms/step - loss: 2.8456 - accuracy: 0.2970 - val_loss: 3.0891 - val_accuracy: 0.2596\n",
            "Epoch 66/128\n",
            "782/782 [==============================] - 3s 4ms/step - loss: 2.8409 - accuracy: 0.2961 - val_loss: 3.0681 - val_accuracy: 0.2626\n",
            "Epoch 67/128\n",
            "782/782 [==============================] - 3s 4ms/step - loss: 2.8267 - accuracy: 0.2987 - val_loss: 3.0421 - val_accuracy: 0.2726\n",
            "Epoch 68/128\n",
            "782/782 [==============================] - 3s 4ms/step - loss: 2.8223 - accuracy: 0.2998 - val_loss: 3.0459 - val_accuracy: 0.2718\n",
            "Epoch 69/128\n",
            "782/782 [==============================] - 3s 4ms/step - loss: 2.8101 - accuracy: 0.3004 - val_loss: 3.0731 - val_accuracy: 0.2670\n",
            "Epoch 70/128\n",
            "782/782 [==============================] - 3s 4ms/step - loss: 2.8003 - accuracy: 0.3039 - val_loss: 3.0571 - val_accuracy: 0.2675\n",
            "Epoch 71/128\n",
            "782/782 [==============================] - 3s 4ms/step - loss: 2.7931 - accuracy: 0.3054 - val_loss: 3.0454 - val_accuracy: 0.2731\n",
            "Epoch 72/128\n",
            "782/782 [==============================] - 3s 4ms/step - loss: 2.7850 - accuracy: 0.3060 - val_loss: 3.0520 - val_accuracy: 0.2727\n",
            "Epoch 73/128\n",
            "782/782 [==============================] - 3s 4ms/step - loss: 2.7815 - accuracy: 0.3095 - val_loss: 3.0349 - val_accuracy: 0.2725\n",
            "Epoch 74/128\n",
            "782/782 [==============================] - 3s 4ms/step - loss: 2.7680 - accuracy: 0.3102 - val_loss: 3.0925 - val_accuracy: 0.2585\n",
            "Epoch 75/128\n",
            "782/782 [==============================] - 3s 4ms/step - loss: 2.7638 - accuracy: 0.3110 - val_loss: 3.0129 - val_accuracy: 0.2745\n",
            "Epoch 76/128\n",
            "782/782 [==============================] - 3s 4ms/step - loss: 2.7552 - accuracy: 0.3119 - val_loss: 3.0235 - val_accuracy: 0.2732\n",
            "Epoch 77/128\n",
            "782/782 [==============================] - 3s 4ms/step - loss: 2.7399 - accuracy: 0.3162 - val_loss: 3.0179 - val_accuracy: 0.2770\n",
            "Epoch 78/128\n",
            "782/782 [==============================] - 3s 4ms/step - loss: 2.7377 - accuracy: 0.3156 - val_loss: 3.0131 - val_accuracy: 0.2772\n",
            "Epoch 79/128\n",
            "782/782 [==============================] - 3s 4ms/step - loss: 2.7270 - accuracy: 0.3151 - val_loss: 3.0483 - val_accuracy: 0.2697\n",
            "Epoch 80/128\n",
            "782/782 [==============================] - 3s 4ms/step - loss: 2.7263 - accuracy: 0.3198 - val_loss: 3.0378 - val_accuracy: 0.2724\n",
            "Epoch 81/128\n",
            "782/782 [==============================] - 3s 4ms/step - loss: 2.7164 - accuracy: 0.3207 - val_loss: 3.0640 - val_accuracy: 0.2677\n",
            "Epoch 82/128\n",
            "782/782 [==============================] - 3s 3ms/step - loss: 2.7037 - accuracy: 0.3213 - val_loss: 3.0126 - val_accuracy: 0.2762\n",
            "Epoch 83/128\n",
            "782/782 [==============================] - 3s 4ms/step - loss: 2.6996 - accuracy: 0.3227 - val_loss: 3.0058 - val_accuracy: 0.2780\n",
            "Epoch 84/128\n",
            "782/782 [==============================] - 3s 4ms/step - loss: 2.6886 - accuracy: 0.3257 - val_loss: 3.0284 - val_accuracy: 0.2712\n",
            "Epoch 85/128\n",
            "782/782 [==============================] - 3s 3ms/step - loss: 2.6816 - accuracy: 0.3288 - val_loss: 3.0402 - val_accuracy: 0.2737\n",
            "Epoch 86/128\n",
            "782/782 [==============================] - 3s 3ms/step - loss: 2.6801 - accuracy: 0.3275 - val_loss: 3.0103 - val_accuracy: 0.2774\n",
            "Epoch 87/128\n",
            "782/782 [==============================] - 3s 4ms/step - loss: 2.6647 - accuracy: 0.3290 - val_loss: 3.0412 - val_accuracy: 0.2716\n",
            "Epoch 88/128\n",
            "782/782 [==============================] - 3s 4ms/step - loss: 2.6626 - accuracy: 0.3320 - val_loss: 3.0330 - val_accuracy: 0.2718\n",
            "Epoch 89/128\n",
            "782/782 [==============================] - 3s 3ms/step - loss: 2.6514 - accuracy: 0.3333 - val_loss: 2.9943 - val_accuracy: 0.2843\n",
            "Epoch 90/128\n",
            "782/782 [==============================] - 3s 3ms/step - loss: 2.6418 - accuracy: 0.3343 - val_loss: 3.0135 - val_accuracy: 0.2774\n",
            "Epoch 91/128\n",
            "782/782 [==============================] - 3s 4ms/step - loss: 2.6384 - accuracy: 0.3360 - val_loss: 3.0324 - val_accuracy: 0.2772\n",
            "Epoch 92/128\n",
            "782/782 [==============================] - 3s 3ms/step - loss: 2.6282 - accuracy: 0.3362 - val_loss: 2.9969 - val_accuracy: 0.2803\n",
            "Epoch 93/128\n",
            "782/782 [==============================] - 3s 4ms/step - loss: 2.6212 - accuracy: 0.3377 - val_loss: 2.9804 - val_accuracy: 0.2843\n",
            "Epoch 94/128\n",
            "782/782 [==============================] - 3s 4ms/step - loss: 2.6143 - accuracy: 0.3397 - val_loss: 3.0458 - val_accuracy: 0.2687\n",
            "Epoch 95/128\n",
            "782/782 [==============================] - 3s 4ms/step - loss: 2.6075 - accuracy: 0.3388 - val_loss: 3.0129 - val_accuracy: 0.2802\n",
            "Epoch 96/128\n",
            "782/782 [==============================] - 3s 4ms/step - loss: 2.5996 - accuracy: 0.3409 - val_loss: 3.0145 - val_accuracy: 0.2779\n",
            "Epoch 97/128\n",
            "782/782 [==============================] - 3s 3ms/step - loss: 2.5924 - accuracy: 0.3443 - val_loss: 2.9972 - val_accuracy: 0.2806\n",
            "Epoch 98/128\n",
            "782/782 [==============================] - 3s 4ms/step - loss: 2.5847 - accuracy: 0.3457 - val_loss: 2.9937 - val_accuracy: 0.2813\n",
            "Epoch 99/128\n",
            "782/782 [==============================] - 3s 3ms/step - loss: 2.5799 - accuracy: 0.3468 - val_loss: 2.9937 - val_accuracy: 0.2794\n",
            "Epoch 100/128\n",
            "782/782 [==============================] - 3s 4ms/step - loss: 2.5751 - accuracy: 0.3478 - val_loss: 3.0641 - val_accuracy: 0.2724\n",
            "Epoch 101/128\n",
            "782/782 [==============================] - 3s 4ms/step - loss: 2.5657 - accuracy: 0.3478 - val_loss: 2.9991 - val_accuracy: 0.2828\n",
            "Epoch 102/128\n",
            "782/782 [==============================] - 3s 4ms/step - loss: 2.5572 - accuracy: 0.3519 - val_loss: 2.9503 - val_accuracy: 0.2890\n",
            "Epoch 103/128\n",
            "782/782 [==============================] - 3s 4ms/step - loss: 2.5520 - accuracy: 0.3522 - val_loss: 3.0109 - val_accuracy: 0.2824\n",
            "Epoch 104/128\n",
            "782/782 [==============================] - 3s 4ms/step - loss: 2.5468 - accuracy: 0.3527 - val_loss: 3.0153 - val_accuracy: 0.2820\n",
            "Epoch 105/128\n",
            "782/782 [==============================] - 3s 4ms/step - loss: 2.5437 - accuracy: 0.3508 - val_loss: 2.9715 - val_accuracy: 0.2896\n",
            "Epoch 106/128\n",
            "782/782 [==============================] - 3s 4ms/step - loss: 2.5322 - accuracy: 0.3565 - val_loss: 2.9712 - val_accuracy: 0.2859\n",
            "Epoch 107/128\n",
            "782/782 [==============================] - 3s 4ms/step - loss: 2.5267 - accuracy: 0.3550 - val_loss: 2.9981 - val_accuracy: 0.2823\n",
            "Epoch 108/128\n",
            "782/782 [==============================] - 3s 4ms/step - loss: 2.5173 - accuracy: 0.3577 - val_loss: 2.9941 - val_accuracy: 0.2845\n",
            "Epoch 109/128\n",
            "782/782 [==============================] - 3s 4ms/step - loss: 2.5130 - accuracy: 0.3592 - val_loss: 2.9793 - val_accuracy: 0.2801\n",
            "Epoch 110/128\n",
            "782/782 [==============================] - 3s 4ms/step - loss: 2.4991 - accuracy: 0.3616 - val_loss: 3.0214 - val_accuracy: 0.2744\n",
            "Epoch 111/128\n",
            "782/782 [==============================] - 3s 4ms/step - loss: 2.5013 - accuracy: 0.3623 - val_loss: 2.9915 - val_accuracy: 0.2857\n",
            "Epoch 112/128\n",
            "782/782 [==============================] - 3s 4ms/step - loss: 2.4837 - accuracy: 0.3668 - val_loss: 2.9619 - val_accuracy: 0.2877\n",
            "Epoch 113/128\n",
            "782/782 [==============================] - 3s 4ms/step - loss: 2.4860 - accuracy: 0.3646 - val_loss: 2.9924 - val_accuracy: 0.2862\n",
            "Epoch 114/128\n",
            "782/782 [==============================] - 3s 4ms/step - loss: 2.4759 - accuracy: 0.3668 - val_loss: 2.9625 - val_accuracy: 0.2868\n",
            "Epoch 115/128\n",
            "782/782 [==============================] - 3s 4ms/step - loss: 2.4697 - accuracy: 0.3686 - val_loss: 2.9704 - val_accuracy: 0.2950\n",
            "Epoch 116/128\n",
            "782/782 [==============================] - 3s 4ms/step - loss: 2.4586 - accuracy: 0.3692 - val_loss: 2.9566 - val_accuracy: 0.2921\n",
            "Epoch 117/128\n",
            "782/782 [==============================] - 3s 4ms/step - loss: 2.4602 - accuracy: 0.3700 - val_loss: 2.9796 - val_accuracy: 0.2859\n",
            "Epoch 118/128\n",
            "782/782 [==============================] - 3s 4ms/step - loss: 2.4500 - accuracy: 0.3722 - val_loss: 3.0294 - val_accuracy: 0.2810\n",
            "Epoch 119/128\n",
            "782/782 [==============================] - 3s 4ms/step - loss: 2.4368 - accuracy: 0.3751 - val_loss: 2.9771 - val_accuracy: 0.2863\n",
            "Epoch 120/128\n",
            "782/782 [==============================] - 3s 4ms/step - loss: 2.4412 - accuracy: 0.3726 - val_loss: 2.9733 - val_accuracy: 0.2881\n",
            "Epoch 121/128\n",
            "782/782 [==============================] - 3s 4ms/step - loss: 2.4282 - accuracy: 0.3766 - val_loss: 2.9775 - val_accuracy: 0.2847\n",
            "Epoch 122/128\n",
            "782/782 [==============================] - 3s 4ms/step - loss: 2.4201 - accuracy: 0.3783 - val_loss: 2.9792 - val_accuracy: 0.2875\n",
            "Epoch 123/128\n",
            "782/782 [==============================] - 3s 3ms/step - loss: 2.4226 - accuracy: 0.3788 - val_loss: 2.9730 - val_accuracy: 0.2868\n",
            "Epoch 124/128\n",
            "782/782 [==============================] - 3s 3ms/step - loss: 2.4099 - accuracy: 0.3811 - val_loss: 2.9726 - val_accuracy: 0.2874\n",
            "Epoch 125/128\n",
            "782/782 [==============================] - 3s 4ms/step - loss: 2.4118 - accuracy: 0.3801 - val_loss: 3.0250 - val_accuracy: 0.2777\n",
            "Epoch 126/128\n",
            "782/782 [==============================] - 3s 4ms/step - loss: 2.4003 - accuracy: 0.3795 - val_loss: 2.9958 - val_accuracy: 0.2879\n",
            "Epoch 127/128\n",
            "782/782 [==============================] - 3s 3ms/step - loss: 2.3906 - accuracy: 0.3836 - val_loss: 2.9953 - val_accuracy: 0.2859\n",
            "Epoch 128/128\n",
            "782/782 [==============================] - 3s 4ms/step - loss: 2.3853 - accuracy: 0.3854 - val_loss: 2.9513 - val_accuracy: 0.2938\n",
            "Test accuracy: 0.2937999963760376\n"
          ]
        }
      ]
    },
    {
      "cell_type": "code",
      "source": [
        "#luu model \n",
        "model.save('ANN_cifar_100.h5')"
      ],
      "metadata": {
        "id": "Xf_zUYHc5Rkt"
      },
      "execution_count": null,
      "outputs": []
    },
    {
      "cell_type": "code",
      "source": [
        "#danh gia model\n",
        "score = model.evaluate(x_test, y_test, verbose = 1)\n",
        " "
      ],
      "metadata": {
        "id": "cTTOeD8d5GdN",
        "colab": {
          "base_uri": "https://localhost:8080/"
        },
        "outputId": "62816279-1093-4b4c-fb05-318a4e1a73e0"
      },
      "execution_count": null,
      "outputs": [
        {
          "output_type": "stream",
          "name": "stdout",
          "text": [
            "313/313 [==============================] - 1s 2ms/step - loss: 2.9513 - accuracy: 0.2938\n"
          ]
        }
      ]
    },
    {
      "cell_type": "code",
      "source": [
        "# Graphs of accuracy\n",
        "plt.figure(figsize=(8,5))\n",
        "plt.grid(True)\n",
        "plt.plot(history.history['accuracy'])\n",
        "plt.plot(history.history['val_accuracy'])\n",
        "plt.title('model accuracy')\n",
        "plt.ylabel('accuracy')\n",
        "plt.xlabel('epoch')\n",
        "plt.legend(['train','validation'],loc='lower right')\n",
        "plt.show()"
      ],
      "metadata": {
        "id": "3DnPqemvC7bE",
        "colab": {
          "base_uri": "https://localhost:8080/",
          "height": 350
        },
        "outputId": "136d0fad-54b6-4718-cb98-45bf9b0ea9ed"
      },
      "execution_count": null,
      "outputs": [
        {
          "output_type": "display_data",
          "data": {
            "text/plain": [
              "<Figure size 576x360 with 1 Axes>"
            ],
            "image/png": "[encoded data removed]"
          },
          "metadata": {
            "needs_background": "light"
          }
        }
      ]
    },
    {
      "cell_type": "code",
      "source": [
        "classes = ['beaver', 'dolphin', 'otter', 'seal', 'whale','aquarium fish', 'flatfish', 'ray', 'shark', 'trout', 'orchids',\n",
        "           'poppies', 'roses', 'sunflowers', 'tulips','bottles', 'bowls', 'cans', 'cups', 'plates',\t'apples', 'mushrooms', \n",
        "           'oranges', 'pears', 'sweet peppers','clock', 'computer keyboard', 'lamp', 'telephone', 'television', 'bed', 'chair',\n",
        "           'couch', 'table', 'wardrobe', 'bee', 'beetle', 'butterfly', 'caterpillar', 'cockroach', 'bear', 'leopard', 'lion', 'tiger',\n",
        "           'wolf', 'bridge', 'castle', 'house', 'road', 'skyscraper', 'cloud', 'forest', 'mountain', 'plain', 'sea', 'camel', 'cattle',\n",
        "           'chimpanzee', 'elephant', 'kangaroo', 'fox', 'porcupine', 'possum', 'raccoon', 'skunk', 'crab', 'lobster', 'snail', 'spider', \n",
        "           'worm','baby', 'boy', 'girl', 'man', 'woman', 'crocodile', 'dinosaur', 'lizard', 'snake', 'turtle', 'hamster', 'mouse', 'rabbit',\n",
        "           'shrew', 'squirrel', 'maple', 'oak', 'palm', 'pine', 'willow', 'bicycle', 'bus', 'motorcycle', 'pickup truck', 'train', 'lawn-mower', \n",
        "           'rocket', 'streetcar', 'tank', 'tractor']\n",
        "\n",
        "y_pred=model.predict(x_test)"
      ],
      "metadata": {
        "id": "U--YWxNp5mFv"
      },
      "execution_count": null,
      "outputs": []
    },
    {
      "cell_type": "code",
      "source": [
        "plt.imshow(X[5])\n",
        "label=int(np.argmax(y_pred[5]))\n",
        "classes[label]"
      ],
      "metadata": {
        "colab": {
          "base_uri": "https://localhost:8080/",
          "height": 284
        },
        "id": "dwvBppev6BW9",
        "outputId": "8f09afcc-c4e3-45bb-db44-6eee432110e8"
      },
      "execution_count": null,
      "outputs": [
        {
          "output_type": "execute_result",
          "data": {
            "text/plain": [
              "'tiger'"
            ],
            "application/vnd.google.colaboratory.intrinsic+json": {
              "type": "string"
            }
          },
          "metadata": {},
          "execution_count": 41
        },
        {
          "output_type": "display_data",
          "data": {
            "text/plain": [
              "<Figure size 432x288 with 1 Axes>"
            ],
            "image/png": "[encoded data removed]"
          },
          "metadata": {
            "needs_background": "light"
          }
        }
      ]
    },
    {
      "cell_type": "code",
      "source": [
        ""
      ],
      "metadata": {
        "id": "JRrsnOuV6JJ2"
      },
      "execution_count": null,
      "outputs": []
    }
  ]
}