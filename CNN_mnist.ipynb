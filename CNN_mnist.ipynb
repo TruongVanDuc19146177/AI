{
  "nbformat": 4,
  "nbformat_minor": 0,
  "metadata": {
    "colab": {
      "name": "CNN_mnist",
      "provenance": [],
      "authorship_tag": "ABX9TyND4aur2m/CrOVTVBtkrq4R",
      "include_colab_link": true
    },
    "kernelspec": {
      "name": "python3",
      "display_name": "Python 3"
    },
    "language_info": {
      "name": "python"
    },
    "accelerator": "GPU"
  },
  "cells": [
    {
      "cell_type": "markdown",
      "metadata": {
        "id": "view-in-github",
        "colab_type": "text"
      },
      "source": [
        "<a href=\"https://colab.research.google.com/github/TruongVanDuc19146177/AI/blob/main/CNN_mnist.ipynb\" target=\"_parent\"><img src=\"https://colab.research.google.com/assets/colab-badge.svg\" alt=\"Open In Colab\"/></a>"
      ]
    },
    {
      "cell_type": "code",
      "execution_count": 1,
      "metadata": {
        "id": "WJB8NsFzCRbB"
      },
      "outputs": [],
      "source": [
        "from keras.models import Sequential\n",
        "from keras.datasets import mnist\n",
        "from tensorflow.keras.utils import to_categorical\n",
        "from tensorflow.keras.optimizers import Adam, SGD\n",
        "import pandas as pd\n",
        "import numpy as np\n",
        "import matplotlib.pyplot as plt\n",
        "import cv2\n",
        "from random import randint\n",
        "from skimage import color \n",
        "from tensorflow.keras.utils import to_categorical\n",
        "from keras.layers import Conv2D,Activation, Dropout,MaxPooling2D,Dense,Flatten"
      ]
    },
    {
      "cell_type": "code",
      "source": [
        "(x_train,y_train) , (x_test,y_test) = mnist.load_data()"
      ],
      "metadata": {
        "id": "ia_58px-DuCw",
        "colab": {
          "base_uri": "https://localhost:8080/"
        },
        "outputId": "c0e3a1b9-8e35-49a3-cfc1-2c936aa8679a"
      },
      "execution_count": 2,
      "outputs": [
        {
          "output_type": "stream",
          "name": "stdout",
          "text": [
            "Downloading data from https://storage.googleapis.com/tensorflow/tf-keras-datasets/mnist.npz\n",
            "11493376/11490434 [==============================] - 0s 0us/step\n",
            "11501568/11490434 [==============================] - 0s 0us/step\n"
          ]
        }
      ]
    },
    {
      "cell_type": "code",
      "source": [
        "X=x_test"
      ],
      "metadata": {
        "id": "oRDzwah-D5TP"
      },
      "execution_count": 3,
      "outputs": []
    },
    {
      "cell_type": "code",
      "source": [
        "import matplotlib.pyplot as plt\n",
        "for i in range(9):\n",
        "  plt.subplot(330+i+1)\n",
        "  plt.imshow(x_train[i])\n",
        "plt.show()"
      ],
      "metadata": {
        "colab": {
          "base_uri": "https://localhost:8080/",
          "height": 268
        },
        "id": "Ui1WlJmjD_D1",
        "outputId": "667ca525-f810-4f23-e8d6-2b5df6d9a043"
      },
      "execution_count": 4,
      "outputs": [
        {
          "output_type": "display_data",
          "data": {
            "text/plain": [
              "<Figure size 432x288 with 9 Axes>"
            ],
            "image/png": "[encoded data removed]"
          },
          "metadata": {
            "needs_background": "light"
          }
        }
      ]
    },
    {
      "cell_type": "code",
      "source": [
        "classes =[0,1,2,3,4,5,6,7,8,9]"
      ],
      "metadata": {
        "id": "9uVqQekeEJEW"
      },
      "execution_count": 5,
      "outputs": []
    },
    {
      "cell_type": "code",
      "source": [
        "#chuyen ve so thuc\n",
        "x_train = x_train.astype('float32')\n",
        "x_test = x_test.astype('float32')\n",
        "#xu li du lieu \n",
        "x_train/=255\n",
        "x_test/=255\n",
        "#one hot encoding\n",
        "y_train = to_categorical(y_train,10)\n",
        "y_test = to_categorical(y_test,10)"
      ],
      "metadata": {
        "id": "bjKnFvFrER4-"
      },
      "execution_count": 6,
      "outputs": []
    },
    {
      "cell_type": "code",
      "source": [
        "# MODEL CNN\n",
        "model = Sequential()\n",
        "# BLOCK 1\n",
        "model.add(Conv2D(32,(3,3), activation='relu',kernel_initializer = 'he_uniform', padding ='same' ,input_shape =(28,28,1)))\n",
        "model.add(Conv2D(32,(3,3), activation='relu',kernel_initializer = 'he_uniform', padding ='same'))\n",
        "model.add(MaxPooling2D(2,2))\n",
        "\n",
        "# BLOCK 2\n",
        "model.add(Conv2D(64,(3,3), activation='relu',kernel_initializer = 'he_uniform', padding ='same'))\n",
        "model.add(Conv2D(64,(3,3), activation='relu',kernel_initializer = 'he_uniform', padding ='same'))\n",
        "model.add(MaxPooling2D(2,2))\n",
        "\n",
        "# BLOCK 2\n",
        "model.add(Conv2D(128,(3,3), activation='relu',kernel_initializer = 'he_uniform', padding ='same'))\n",
        "model.add(Conv2D(128,(3,3), activation='relu',kernel_initializer = 'he_uniform', padding ='same'))\n",
        "model.add(MaxPooling2D(2,2))\n",
        "\n",
        "# Add ANN\n",
        "model.add(Flatten())\n",
        "model.add(Dense(128,activation = 'relu', kernel_initializer = 'he_uniform'))\n",
        "model.add(Dense(10,activation = 'softmax'))\n",
        "opt = SGD(lr= 0.01, momentum = 0.9)\n",
        "\n",
        "model.compile(loss = 'categorical_crossentropy', optimizer = opt, metrics = ['accuracy'])\n",
        "\n",
        "history = model.fit(x_train, y_train, epochs = 100, batch_size = 128, validation_data = (x_test,y_test), verbose = 1)"
      ],
      "metadata": {
        "colab": {
          "base_uri": "https://localhost:8080/"
        },
        "id": "SyQxlT85ET9A",
        "outputId": "8e89e6df-fcab-4a50-c34a-84a268dcdb8f"
      },
      "execution_count": 7,
      "outputs": [
        {
          "output_type": "stream",
          "name": "stderr",
          "text": [
            "/usr/local/lib/python3.7/dist-packages/keras/optimizer_v2/gradient_descent.py:102: UserWarning: The `lr` argument is deprecated, use `learning_rate` instead.\n",
            "  super(SGD, self).__init__(name, **kwargs)\n"
          ]
        },
        {
          "output_type": "stream",
          "name": "stdout",
          "text": [
            "Epoch 1/100\n",
            "469/469 [==============================] - 31s 34ms/step - loss: 0.1888 - accuracy: 0.9395 - val_loss: 0.0385 - val_accuracy: 0.9879\n",
            "Epoch 2/100\n",
            "469/469 [==============================] - 13s 27ms/step - loss: 0.0436 - accuracy: 0.9861 - val_loss: 0.0372 - val_accuracy: 0.9874\n",
            "Epoch 3/100\n",
            "469/469 [==============================] - 12s 25ms/step - loss: 0.0291 - accuracy: 0.9908 - val_loss: 0.0233 - val_accuracy: 0.9923\n",
            "Epoch 4/100\n",
            "469/469 [==============================] - 12s 25ms/step - loss: 0.0195 - accuracy: 0.9939 - val_loss: 0.0232 - val_accuracy: 0.9919\n",
            "Epoch 5/100\n",
            "469/469 [==============================] - 12s 27ms/step - loss: 0.0145 - accuracy: 0.9952 - val_loss: 0.0227 - val_accuracy: 0.9928\n",
            "Epoch 6/100\n",
            "469/469 [==============================] - 12s 25ms/step - loss: 0.0098 - accuracy: 0.9970 - val_loss: 0.0241 - val_accuracy: 0.9918\n",
            "Epoch 7/100\n",
            "469/469 [==============================] - 12s 26ms/step - loss: 0.0082 - accuracy: 0.9974 - val_loss: 0.0230 - val_accuracy: 0.9932\n",
            "Epoch 8/100\n",
            "469/469 [==============================] - 13s 27ms/step - loss: 0.0065 - accuracy: 0.9979 - val_loss: 0.0335 - val_accuracy: 0.9904\n",
            "Epoch 9/100\n",
            "469/469 [==============================] - 12s 25ms/step - loss: 0.0052 - accuracy: 0.9984 - val_loss: 0.0281 - val_accuracy: 0.9927\n",
            "Epoch 10/100\n",
            "469/469 [==============================] - 12s 26ms/step - loss: 0.0034 - accuracy: 0.9990 - val_loss: 0.0270 - val_accuracy: 0.9920\n",
            "Epoch 11/100\n",
            "469/469 [==============================] - 12s 25ms/step - loss: 0.0038 - accuracy: 0.9987 - val_loss: 0.0254 - val_accuracy: 0.9929\n",
            "Epoch 12/100\n",
            "469/469 [==============================] - 13s 27ms/step - loss: 0.0029 - accuracy: 0.9991 - val_loss: 0.0258 - val_accuracy: 0.9934\n",
            "Epoch 13/100\n",
            "469/469 [==============================] - 12s 26ms/step - loss: 0.0013 - accuracy: 0.9997 - val_loss: 0.0252 - val_accuracy: 0.9935\n",
            "Epoch 14/100\n",
            "469/469 [==============================] - 12s 26ms/step - loss: 5.3318e-04 - accuracy: 0.9999 - val_loss: 0.0291 - val_accuracy: 0.9935\n",
            "Epoch 15/100\n",
            "469/469 [==============================] - 12s 25ms/step - loss: 1.9004e-04 - accuracy: 1.0000 - val_loss: 0.0250 - val_accuracy: 0.9941\n",
            "Epoch 16/100\n",
            "469/469 [==============================] - 12s 25ms/step - loss: 6.0560e-05 - accuracy: 1.0000 - val_loss: 0.0256 - val_accuracy: 0.9940\n",
            "Epoch 17/100\n",
            "469/469 [==============================] - 12s 27ms/step - loss: 4.2681e-05 - accuracy: 1.0000 - val_loss: 0.0259 - val_accuracy: 0.9943\n",
            "Epoch 18/100\n",
            "469/469 [==============================] - 12s 25ms/step - loss: 3.5446e-05 - accuracy: 1.0000 - val_loss: 0.0263 - val_accuracy: 0.9942\n",
            "Epoch 19/100\n",
            "469/469 [==============================] - 12s 25ms/step - loss: 3.1506e-05 - accuracy: 1.0000 - val_loss: 0.0267 - val_accuracy: 0.9942\n",
            "Epoch 20/100\n",
            "469/469 [==============================] - 12s 25ms/step - loss: 2.6723e-05 - accuracy: 1.0000 - val_loss: 0.0267 - val_accuracy: 0.9941\n",
            "Epoch 21/100\n",
            "469/469 [==============================] - 13s 27ms/step - loss: 2.4182e-05 - accuracy: 1.0000 - val_loss: 0.0271 - val_accuracy: 0.9940\n",
            "Epoch 22/100\n",
            "469/469 [==============================] - 12s 26ms/step - loss: 2.1694e-05 - accuracy: 1.0000 - val_loss: 0.0274 - val_accuracy: 0.9940\n",
            "Epoch 23/100\n",
            "469/469 [==============================] - 12s 26ms/step - loss: 1.9833e-05 - accuracy: 1.0000 - val_loss: 0.0275 - val_accuracy: 0.9940\n",
            "Epoch 24/100\n",
            "469/469 [==============================] - 13s 27ms/step - loss: 1.8426e-05 - accuracy: 1.0000 - val_loss: 0.0278 - val_accuracy: 0.9940\n",
            "Epoch 25/100\n",
            "469/469 [==============================] - 12s 25ms/step - loss: 1.6953e-05 - accuracy: 1.0000 - val_loss: 0.0280 - val_accuracy: 0.9940\n",
            "Epoch 26/100\n",
            "469/469 [==============================] - 12s 25ms/step - loss: 1.6178e-05 - accuracy: 1.0000 - val_loss: 0.0283 - val_accuracy: 0.9940\n",
            "Epoch 27/100\n",
            "469/469 [==============================] - 12s 27ms/step - loss: 1.5076e-05 - accuracy: 1.0000 - val_loss: 0.0285 - val_accuracy: 0.9940\n",
            "Epoch 28/100\n",
            "469/469 [==============================] - 12s 25ms/step - loss: 1.4099e-05 - accuracy: 1.0000 - val_loss: 0.0285 - val_accuracy: 0.9940\n",
            "Epoch 29/100\n",
            "469/469 [==============================] - 12s 25ms/step - loss: 1.3440e-05 - accuracy: 1.0000 - val_loss: 0.0287 - val_accuracy: 0.9940\n",
            "Epoch 30/100\n",
            "469/469 [==============================] - 12s 27ms/step - loss: 1.2761e-05 - accuracy: 1.0000 - val_loss: 0.0289 - val_accuracy: 0.9940\n",
            "Epoch 31/100\n",
            "469/469 [==============================] - 13s 27ms/step - loss: 1.2066e-05 - accuracy: 1.0000 - val_loss: 0.0291 - val_accuracy: 0.9940\n",
            "Epoch 32/100\n",
            "469/469 [==============================] - 13s 27ms/step - loss: 1.1542e-05 - accuracy: 1.0000 - val_loss: 0.0293 - val_accuracy: 0.9940\n",
            "Epoch 33/100\n",
            "469/469 [==============================] - 13s 27ms/step - loss: 1.0916e-05 - accuracy: 1.0000 - val_loss: 0.0294 - val_accuracy: 0.9940\n",
            "Epoch 34/100\n",
            "469/469 [==============================] - 12s 26ms/step - loss: 1.0555e-05 - accuracy: 1.0000 - val_loss: 0.0295 - val_accuracy: 0.9940\n",
            "Epoch 35/100\n",
            "469/469 [==============================] - 12s 25ms/step - loss: 1.0003e-05 - accuracy: 1.0000 - val_loss: 0.0297 - val_accuracy: 0.9940\n",
            "Epoch 36/100\n",
            "469/469 [==============================] - 12s 25ms/step - loss: 9.6442e-06 - accuracy: 1.0000 - val_loss: 0.0299 - val_accuracy: 0.9940\n",
            "Epoch 37/100\n",
            "469/469 [==============================] - 13s 27ms/step - loss: 9.3066e-06 - accuracy: 1.0000 - val_loss: 0.0300 - val_accuracy: 0.9940\n",
            "Epoch 38/100\n",
            "469/469 [==============================] - 13s 27ms/step - loss: 8.8824e-06 - accuracy: 1.0000 - val_loss: 0.0301 - val_accuracy: 0.9940\n",
            "Epoch 39/100\n",
            "469/469 [==============================] - 12s 26ms/step - loss: 8.6191e-06 - accuracy: 1.0000 - val_loss: 0.0302 - val_accuracy: 0.9940\n",
            "Epoch 40/100\n",
            "469/469 [==============================] - 12s 26ms/step - loss: 8.3055e-06 - accuracy: 1.0000 - val_loss: 0.0304 - val_accuracy: 0.9940\n",
            "Epoch 41/100\n",
            "469/469 [==============================] - 12s 25ms/step - loss: 7.9884e-06 - accuracy: 1.0000 - val_loss: 0.0305 - val_accuracy: 0.9940\n",
            "Epoch 42/100\n",
            "469/469 [==============================] - 12s 26ms/step - loss: 7.8027e-06 - accuracy: 1.0000 - val_loss: 0.0306 - val_accuracy: 0.9939\n",
            "Epoch 43/100\n",
            "469/469 [==============================] - 13s 27ms/step - loss: 7.5426e-06 - accuracy: 1.0000 - val_loss: 0.0306 - val_accuracy: 0.9940\n",
            "Epoch 44/100\n",
            "469/469 [==============================] - 12s 26ms/step - loss: 7.3019e-06 - accuracy: 1.0000 - val_loss: 0.0308 - val_accuracy: 0.9939\n",
            "Epoch 45/100\n",
            "469/469 [==============================] - 12s 26ms/step - loss: 7.0429e-06 - accuracy: 1.0000 - val_loss: 0.0309 - val_accuracy: 0.9939\n",
            "Epoch 46/100\n",
            "469/469 [==============================] - 12s 25ms/step - loss: 6.8408e-06 - accuracy: 1.0000 - val_loss: 0.0310 - val_accuracy: 0.9939\n",
            "Epoch 47/100\n",
            "469/469 [==============================] - 12s 25ms/step - loss: 6.6578e-06 - accuracy: 1.0000 - val_loss: 0.0311 - val_accuracy: 0.9939\n",
            "Epoch 48/100\n",
            "469/469 [==============================] - 12s 26ms/step - loss: 6.4941e-06 - accuracy: 1.0000 - val_loss: 0.0312 - val_accuracy: 0.9939\n",
            "Epoch 49/100\n",
            "469/469 [==============================] - 12s 26ms/step - loss: 6.3095e-06 - accuracy: 1.0000 - val_loss: 0.0313 - val_accuracy: 0.9939\n",
            "Epoch 50/100\n",
            "469/469 [==============================] - 12s 25ms/step - loss: 6.1627e-06 - accuracy: 1.0000 - val_loss: 0.0313 - val_accuracy: 0.9939\n",
            "Epoch 51/100\n",
            "469/469 [==============================] - 12s 25ms/step - loss: 6.0008e-06 - accuracy: 1.0000 - val_loss: 0.0314 - val_accuracy: 0.9939\n",
            "Epoch 52/100\n",
            "469/469 [==============================] - 12s 25ms/step - loss: 5.8424e-06 - accuracy: 1.0000 - val_loss: 0.0315 - val_accuracy: 0.9939\n",
            "Epoch 53/100\n",
            "469/469 [==============================] - 12s 25ms/step - loss: 5.6895e-06 - accuracy: 1.0000 - val_loss: 0.0316 - val_accuracy: 0.9939\n",
            "Epoch 54/100\n",
            "469/469 [==============================] - 12s 25ms/step - loss: 5.5582e-06 - accuracy: 1.0000 - val_loss: 0.0316 - val_accuracy: 0.9939\n",
            "Epoch 55/100\n",
            "469/469 [==============================] - 12s 25ms/step - loss: 5.4219e-06 - accuracy: 1.0000 - val_loss: 0.0318 - val_accuracy: 0.9939\n",
            "Epoch 56/100\n",
            "469/469 [==============================] - 12s 25ms/step - loss: 5.3186e-06 - accuracy: 1.0000 - val_loss: 0.0318 - val_accuracy: 0.9940\n",
            "Epoch 57/100\n",
            "469/469 [==============================] - 12s 27ms/step - loss: 5.1831e-06 - accuracy: 1.0000 - val_loss: 0.0319 - val_accuracy: 0.9939\n",
            "Epoch 58/100\n",
            "469/469 [==============================] - 12s 26ms/step - loss: 5.0942e-06 - accuracy: 1.0000 - val_loss: 0.0320 - val_accuracy: 0.9939\n",
            "Epoch 59/100\n",
            "469/469 [==============================] - 12s 27ms/step - loss: 4.9736e-06 - accuracy: 1.0000 - val_loss: 0.0321 - val_accuracy: 0.9940\n",
            "Epoch 60/100\n",
            "469/469 [==============================] - 12s 25ms/step - loss: 4.8726e-06 - accuracy: 1.0000 - val_loss: 0.0321 - val_accuracy: 0.9940\n",
            "Epoch 61/100\n",
            "469/469 [==============================] - 12s 25ms/step - loss: 4.7715e-06 - accuracy: 1.0000 - val_loss: 0.0322 - val_accuracy: 0.9940\n",
            "Epoch 62/100\n",
            "469/469 [==============================] - 12s 25ms/step - loss: 4.6729e-06 - accuracy: 1.0000 - val_loss: 0.0322 - val_accuracy: 0.9940\n",
            "Epoch 63/100\n",
            "469/469 [==============================] - 13s 27ms/step - loss: 4.5870e-06 - accuracy: 1.0000 - val_loss: 0.0323 - val_accuracy: 0.9940\n",
            "Epoch 64/100\n",
            "469/469 [==============================] - 12s 26ms/step - loss: 4.4971e-06 - accuracy: 1.0000 - val_loss: 0.0324 - val_accuracy: 0.9939\n",
            "Epoch 65/100\n",
            "469/469 [==============================] - 12s 25ms/step - loss: 4.4105e-06 - accuracy: 1.0000 - val_loss: 0.0324 - val_accuracy: 0.9940\n",
            "Epoch 66/100\n",
            "469/469 [==============================] - 12s 25ms/step - loss: 4.3332e-06 - accuracy: 1.0000 - val_loss: 0.0325 - val_accuracy: 0.9940\n",
            "Epoch 67/100\n",
            "469/469 [==============================] - 12s 25ms/step - loss: 4.2680e-06 - accuracy: 1.0000 - val_loss: 0.0326 - val_accuracy: 0.9940\n",
            "Epoch 68/100\n",
            "469/469 [==============================] - 12s 27ms/step - loss: 4.1812e-06 - accuracy: 1.0000 - val_loss: 0.0326 - val_accuracy: 0.9940\n",
            "Epoch 69/100\n",
            "469/469 [==============================] - 12s 25ms/step - loss: 4.1031e-06 - accuracy: 1.0000 - val_loss: 0.0327 - val_accuracy: 0.9940\n",
            "Epoch 70/100\n",
            "469/469 [==============================] - 12s 27ms/step - loss: 4.0356e-06 - accuracy: 1.0000 - val_loss: 0.0327 - val_accuracy: 0.9939\n",
            "Epoch 71/100\n",
            "469/469 [==============================] - 12s 25ms/step - loss: 3.9663e-06 - accuracy: 1.0000 - val_loss: 0.0328 - val_accuracy: 0.9940\n",
            "Epoch 72/100\n",
            "469/469 [==============================] - 12s 27ms/step - loss: 3.8982e-06 - accuracy: 1.0000 - val_loss: 0.0329 - val_accuracy: 0.9940\n",
            "Epoch 73/100\n",
            "469/469 [==============================] - 12s 25ms/step - loss: 3.8345e-06 - accuracy: 1.0000 - val_loss: 0.0330 - val_accuracy: 0.9940\n",
            "Epoch 74/100\n",
            "469/469 [==============================] - 12s 25ms/step - loss: 3.7622e-06 - accuracy: 1.0000 - val_loss: 0.0330 - val_accuracy: 0.9940\n",
            "Epoch 75/100\n",
            "469/469 [==============================] - 12s 25ms/step - loss: 3.7035e-06 - accuracy: 1.0000 - val_loss: 0.0331 - val_accuracy: 0.9940\n",
            "Epoch 76/100\n",
            "469/469 [==============================] - 13s 27ms/step - loss: 3.6473e-06 - accuracy: 1.0000 - val_loss: 0.0331 - val_accuracy: 0.9940\n",
            "Epoch 77/100\n",
            "469/469 [==============================] - 12s 26ms/step - loss: 3.5874e-06 - accuracy: 1.0000 - val_loss: 0.0332 - val_accuracy: 0.9940\n",
            "Epoch 78/100\n",
            "469/469 [==============================] - 12s 26ms/step - loss: 3.5317e-06 - accuracy: 1.0000 - val_loss: 0.0332 - val_accuracy: 0.9940\n",
            "Epoch 79/100\n",
            "469/469 [==============================] - 12s 26ms/step - loss: 3.4816e-06 - accuracy: 1.0000 - val_loss: 0.0333 - val_accuracy: 0.9940\n",
            "Epoch 80/100\n",
            "469/469 [==============================] - 12s 26ms/step - loss: 3.4289e-06 - accuracy: 1.0000 - val_loss: 0.0333 - val_accuracy: 0.9940\n",
            "Epoch 81/100\n",
            "469/469 [==============================] - 12s 25ms/step - loss: 3.3795e-06 - accuracy: 1.0000 - val_loss: 0.0334 - val_accuracy: 0.9940\n",
            "Epoch 82/100\n",
            "469/469 [==============================] - 12s 27ms/step - loss: 3.3293e-06 - accuracy: 1.0000 - val_loss: 0.0334 - val_accuracy: 0.9940\n",
            "Epoch 83/100\n",
            "469/469 [==============================] - 12s 26ms/step - loss: 3.2794e-06 - accuracy: 1.0000 - val_loss: 0.0335 - val_accuracy: 0.9940\n",
            "Epoch 84/100\n",
            "469/469 [==============================] - 12s 25ms/step - loss: 3.2316e-06 - accuracy: 1.0000 - val_loss: 0.0335 - val_accuracy: 0.9940\n",
            "Epoch 85/100\n",
            "469/469 [==============================] - 13s 27ms/step - loss: 3.1772e-06 - accuracy: 1.0000 - val_loss: 0.0336 - val_accuracy: 0.9940\n",
            "Epoch 86/100\n",
            "469/469 [==============================] - 13s 27ms/step - loss: 3.1378e-06 - accuracy: 1.0000 - val_loss: 0.0337 - val_accuracy: 0.9940\n",
            "Epoch 87/100\n",
            "469/469 [==============================] - 12s 26ms/step - loss: 3.1028e-06 - accuracy: 1.0000 - val_loss: 0.0337 - val_accuracy: 0.9940\n",
            "Epoch 88/100\n",
            "469/469 [==============================] - 12s 25ms/step - loss: 3.0573e-06 - accuracy: 1.0000 - val_loss: 0.0338 - val_accuracy: 0.9940\n",
            "Epoch 89/100\n",
            "469/469 [==============================] - 12s 26ms/step - loss: 3.0130e-06 - accuracy: 1.0000 - val_loss: 0.0338 - val_accuracy: 0.9940\n",
            "Epoch 90/100\n",
            "469/469 [==============================] - 12s 25ms/step - loss: 2.9784e-06 - accuracy: 1.0000 - val_loss: 0.0339 - val_accuracy: 0.9940\n",
            "Epoch 91/100\n",
            "469/469 [==============================] - 12s 25ms/step - loss: 2.9371e-06 - accuracy: 1.0000 - val_loss: 0.0339 - val_accuracy: 0.9940\n",
            "Epoch 92/100\n",
            "469/469 [==============================] - 12s 25ms/step - loss: 2.9012e-06 - accuracy: 1.0000 - val_loss: 0.0339 - val_accuracy: 0.9940\n",
            "Epoch 93/100\n",
            "469/469 [==============================] - 12s 25ms/step - loss: 2.8617e-06 - accuracy: 1.0000 - val_loss: 0.0340 - val_accuracy: 0.9940\n",
            "Epoch 94/100\n",
            "469/469 [==============================] - 13s 27ms/step - loss: 2.8254e-06 - accuracy: 1.0000 - val_loss: 0.0340 - val_accuracy: 0.9940\n",
            "Epoch 95/100\n",
            "469/469 [==============================] - 12s 27ms/step - loss: 2.7887e-06 - accuracy: 1.0000 - val_loss: 0.0341 - val_accuracy: 0.9940\n",
            "Epoch 96/100\n",
            "469/469 [==============================] - 12s 25ms/step - loss: 2.7535e-06 - accuracy: 1.0000 - val_loss: 0.0341 - val_accuracy: 0.9940\n",
            "Epoch 97/100\n",
            "469/469 [==============================] - 12s 27ms/step - loss: 2.7230e-06 - accuracy: 1.0000 - val_loss: 0.0342 - val_accuracy: 0.9940\n",
            "Epoch 98/100\n",
            "469/469 [==============================] - 13s 27ms/step - loss: 2.6869e-06 - accuracy: 1.0000 - val_loss: 0.0342 - val_accuracy: 0.9940\n",
            "Epoch 99/100\n",
            "469/469 [==============================] - 12s 25ms/step - loss: 2.6589e-06 - accuracy: 1.0000 - val_loss: 0.0342 - val_accuracy: 0.9940\n",
            "Epoch 100/100\n",
            "469/469 [==============================] - 13s 27ms/step - loss: 2.6258e-06 - accuracy: 1.0000 - val_loss: 0.0343 - val_accuracy: 0.9940\n"
          ]
        }
      ]
    },
    {
      "cell_type": "code",
      "source": [
        "# SAVE\n",
        "model.save('CNN_mnist.h5')"
      ],
      "metadata": {
        "id": "3azhtsvpNYnk"
      },
      "execution_count": 13,
      "outputs": []
    },
    {
      "cell_type": "code",
      "source": [
        "#danh gia model\n",
        "score = model.evaluate(x_test, y_test, verbose = 1)"
      ],
      "metadata": {
        "colab": {
          "base_uri": "https://localhost:8080/"
        },
        "id": "9m27Bj44EoHQ",
        "outputId": "e8a23b62-45af-4fd3-e542-603f57a6e018"
      },
      "execution_count": 14,
      "outputs": [
        {
          "output_type": "stream",
          "name": "stdout",
          "text": [
            "313/313 [==============================] - 2s 6ms/step - loss: 0.0343 - accuracy: 0.9940\n"
          ]
        }
      ]
    },
    {
      "cell_type": "code",
      "source": [
        "# Graphs of accuracy\n",
        "plt.figure(figsize=(8,5))\n",
        "plt.grid(True)\n",
        "plt.plot(history.history['accuracy'])\n",
        "plt.plot(history.history['val_accuracy'])\n",
        "plt.title('model accuracy')\n",
        "plt.ylabel('accuracy')\n",
        "plt.xlabel('epoch')\n",
        "plt.legend(['train','validation'],loc='lower right')\n",
        "plt.show()"
      ],
      "metadata": {
        "id": "1QcHfieiEqJ8",
        "colab": {
          "base_uri": "https://localhost:8080/",
          "height": 350
        },
        "outputId": "4f483b23-37d2-404e-a54e-744d0a9a3ed7"
      },
      "execution_count": 10,
      "outputs": [
        {
          "output_type": "display_data",
          "data": {
            "text/plain": [
              "<Figure size 576x360 with 1 Axes>"
            ],
            "image/png": "[encoded data removed]"
          },
          "metadata": {
            "needs_background": "light"
          }
        }
      ]
    },
    {
      "cell_type": "code",
      "source": [
        "#kiem tra do chinhs xac model tu x_test\n",
        "plt.imshow(X[5])\n",
        "y_pred=model.predict(x_test)\n",
        "label=int(np.argmax(y_pred[5]))\n",
        "classes[label]"
      ],
      "metadata": {
        "colab": {
          "base_uri": "https://localhost:8080/",
          "height": 282
        },
        "id": "1w33HtEqHBtM",
        "outputId": "8554d708-d5ec-4e46-f8ed-7f02ab891341"
      },
      "execution_count": 11,
      "outputs": [
        {
          "output_type": "execute_result",
          "data": {
            "text/plain": [
              "1"
            ]
          },
          "metadata": {},
          "execution_count": 11
        },
        {
          "output_type": "display_data",
          "data": {
            "text/plain": [
              "<Figure size 432x288 with 1 Axes>"
            ],
            "image/png": "[encoded data removed]"
          },
          "metadata": {
            "needs_background": "light"
          }
        }
      ]
    },
    {
      "cell_type": "code",
      "source": [
        "plt.imshow(X[8])\n",
        "y_pred=model.predict(x_test)\n",
        "label=int(np.argmax(y_pred[8]))\n",
        "classes[label]"
      ],
      "metadata": {
        "colab": {
          "base_uri": "https://localhost:8080/",
          "height": 282
        },
        "id": "pSBDsTp5Hurv",
        "outputId": "daf784af-7339-4b55-b8cf-012681686e73"
      },
      "execution_count": 15,
      "outputs": [
        {
          "output_type": "execute_result",
          "data": {
            "text/plain": [
              "5"
            ]
          },
          "metadata": {},
          "execution_count": 15
        },
        {
          "output_type": "display_data",
          "data": {
            "text/plain": [
              "<Figure size 432x288 with 1 Axes>"
            ],
            "image/png": "[encoded data removed]"
          },
          "metadata": {
            "needs_background": "light"
          }
        }
      ]
    }
  ]
}